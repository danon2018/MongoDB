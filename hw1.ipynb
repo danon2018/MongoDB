{
 "cells": [
  {
   "cell_type": "markdown",
   "id": "09e37892",
   "metadata": {},
   "source": [
    "# Домашняя работа №1. MongoDB"
   ]
  },
  {
   "cell_type": "markdown",
   "id": "97046344",
   "metadata": {},
   "source": [
    "1) Я решил установить $MongoDB~Compass$, разворачивать локально не стал, поэтому создал бесплатный Кластер, используя $MongoDB~Atlas$. Вот начальная страница графического клиента с введенной ссылкой на кластер:\n",
    "<img src = \"1.png\" width = \"70%\" alt = \"скриншот\" align = center />\n"
   ]
  },
  {
   "cell_type": "markdown",
   "id": "3aa77b16",
   "metadata": {},
   "source": [
    "2) Теперь создадим базу данных $test\\_db$ с коллекцией $mall\\_customers$, в которую закачаем данные из датасета $Mall\\_Customers.csv$, взятого с предложенного сайта:\n",
    "<img src = \"2.png\" width = \"70%\" alt = \"скриншот\" align = center />\n"
   ]
  },
  {
   "cell_type": "markdown",
   "id": "277344c9",
   "metadata": {},
   "source": [
    "3) Напишем несколько запросов на выборку и обновление данных в коллекции с целью демонстрации функционала и синтаксиса данной СУБД"
   ]
  },
  {
   "cell_type": "markdown",
   "id": "b1e22158",
   "metadata": {},
   "source": [
    "а) В текущую коллекцию добавим документ(тем самым показав различие между реляционными СУБД и документарными, ведь в MongoDB в одной коллекции могут лежать документы с абсолютно разными типами данных):\n",
    "<img src = \"3.png\" width = \"70%\" alt = \"скриншот\" align = center />"
   ]
  },
  {
   "cell_type": "markdown",
   "id": "9c32bdcb",
   "metadata": {},
   "source": [
    "б) Теперь удалим добавленный документ:\n",
    "<img src = \"4.png\" width = \"70%\" alt = \"скриншот\" align = center />"
   ]
  },
  {
   "cell_type": "markdown",
   "id": "322573f3",
   "metadata": {},
   "source": [
    "в) О покупателе с $customer\\_id=10$ поступила новая информация, поэтому обновим его гендер(так как данные собраны с магазинов Америки, это вполне возможно):\n",
    "<img src = \"5.png\" width = \"70%\" alt = \"скриншот\" align = center />"
   ]
  },
  {
   "cell_type": "markdown",
   "id": "d4432c86",
   "metadata": {},
   "source": [
    "г) Отсортируем покупателей по доходу(по убыванию), и выберем первые 3 из них, чтобы сделать специальное предложение:\n",
    "<img src = \"6.png\" width = \"70%\" alt = \"скриншот\" align = center />"
   ]
  },
  {
   "cell_type": "markdown",
   "id": "a944ac77",
   "metadata": {},
   "source": [
    "д) Нам интересны покупатели в возрасте от 20 до 40 лет. Посчитаем их количество:\n",
    "<img src = \"7.png\" width = \"70%\" alt = \"скриншот\" align = center />"
   ]
  },
  {
   "cell_type": "markdown",
   "id": "c6975341",
   "metadata": {},
   "source": [
    "4) Сравним время работы запросов с использованием индексов и без их использования"
   ]
  },
  {
   "cell_type": "markdown",
   "id": "5e7bddc3",
   "metadata": {},
   "source": [
    "a) Посмотрим время простого запроса без использования индексов(оно получилось равным $t=115$ ms):\n",
    "<img src = \"8.png\" width = \"70%\" alt = \"скриншот\" align = center />"
   ]
  },
  {
   "cell_type": "markdown",
   "id": "fd51183c",
   "metadata": {},
   "source": [
    "б) Теперь создадим индекс и сделаем тот же запрос(время получилось очень маленьким: $t<<1$ ms):\n",
    "<img src = \"9.png\" width = \"70%\" alt = \"скриншот\" align = center />"
   ]
  },
  {
   "cell_type": "markdown",
   "id": "defd2f50",
   "metadata": {},
   "source": [
    "<img src = \"10.png\" width = \"70%\" alt = \"скриншот\" align = center />"
   ]
  },
  {
   "cell_type": "markdown",
   "id": "247bcba3",
   "metadata": {},
   "source": [
    "Как мы можем видеть, после добавления индекса производительность сильно возросла."
   ]
  },
  {
   "cell_type": "code",
   "execution_count": null,
   "id": "a3ca2192",
   "metadata": {},
   "outputs": [],
   "source": []
  }
 ],
 "metadata": {
  "kernelspec": {
   "display_name": "Python 3 (ipykernel)",
   "language": "python",
   "name": "python3"
  },
  "language_info": {
   "codemirror_mode": {
    "name": "ipython",
    "version": 3
   },
   "file_extension": ".py",
   "mimetype": "text/x-python",
   "name": "python",
   "nbconvert_exporter": "python",
   "pygments_lexer": "ipython3",
   "version": "3.9.7"
  }
 },
 "nbformat": 4,
 "nbformat_minor": 5
}
